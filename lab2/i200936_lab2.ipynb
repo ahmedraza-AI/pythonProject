{
 "cells": [
  {
   "cell_type": "code",
   "execution_count": 54,
   "id": "ec186c81",
   "metadata": {},
   "outputs": [],
   "source": [
    "class university:\n",
    "    campuses=20\n",
    "    def __init__(self,name,location):\n",
    "        self.name=name\n",
    "        self.location=location\n",
    "    def _display(self):\n",
    "        print(f\"Name is {self.name} and location is {self.location}\" )\n",
    "        "
   ]
  },
  {
   "cell_type": "code",
   "execution_count": 55,
   "id": "c723050a",
   "metadata": {},
   "outputs": [],
   "source": [
    "class department(university):\n",
    "    def __init__(self,n,p,uname,uloc):\n",
    "        super().__init__(uname,uloc)\n",
    "        self.n=n\n",
    "        self.p=p\n",
    "    def display(self):\n",
    "        self._display()\n",
    "        print(f\"Name is {self.n} and program is {self.p}\")"
   ]
  },
  {
   "cell_type": "code",
   "execution_count": 56,
   "id": "cb7d386c",
   "metadata": {},
   "outputs": [
    {
     "name": "stdout",
     "output_type": "stream",
     "text": [
      "Name is lums and location is Lahore\n"
     ]
    }
   ],
   "source": [
    "uni=university(\"lums\",\"Lahore\")\n",
    "uni._display()"
   ]
  },
  {
   "cell_type": "code",
   "execution_count": 57,
   "id": "bc181e8c",
   "metadata": {},
   "outputs": [
    {
     "name": "stdout",
     "output_type": "stream",
     "text": [
      "Name is comsats and location is pindi\n",
      "Name is data and program is ai\n"
     ]
    }
   ],
   "source": [
    "r=department(\"data\",\"ai\",\"comsats\",\"pindi\")\n",
    "r.display()"
   ]
  },
  {
   "cell_type": "code",
   "execution_count": null,
   "id": "13c448ad",
   "metadata": {},
   "outputs": [],
   "source": []
  },
  {
   "cell_type": "code",
   "execution_count": 58,
   "id": "9c3d8349",
   "metadata": {},
   "outputs": [
    {
     "name": "stdout",
     "output_type": "stream",
     "text": [
      "0 raza\n",
      "1 ahmed\n",
      "2 zz\n"
     ]
    }
   ],
   "source": [
    "lis=[\"raza\",\"ahmed\",\"zz\"]\n",
    "for i,j in enumerate(lis):\n",
    "    print(i,j)"
   ]
  },
  {
   "cell_type": "code",
   "execution_count": 67,
   "id": "a5e24e25",
   "metadata": {},
   "outputs": [
    {
     "name": "stdout",
     "output_type": "stream",
     "text": [
      "3\n"
     ]
    }
   ],
   "source": [
    "list1=[\"raza\",\"ahmed\",\"2263322\",\"rar\",\"xmx\"]\n",
    "\n",
    "counter=0\n",
    "for i in list1:\n",
    "    if len(i)>1 and i[0]==i[-1]:\n",
    "        counter+=1\n",
    "print(counter)        "
   ]
  },
  {
   "cell_type": "code",
   "execution_count": null,
   "id": "fda7e466",
   "metadata": {},
   "outputs": [],
   "source": []
  },
  {
   "cell_type": "code",
   "execution_count": 68,
   "id": "647501fd",
   "metadata": {},
   "outputs": [
    {
     "data": {
      "text/plain": [
       "['2263322', 'ahmed', 'rar', 'raza', 'xmx']"
      ]
     },
     "execution_count": 68,
     "metadata": {},
     "output_type": "execute_result"
    }
   ],
   "source": [
    "sort=sorted(list1)\n",
    "sort"
   ]
  },
  {
   "cell_type": "code",
   "execution_count": null,
   "id": "4af1f86a",
   "metadata": {},
   "outputs": [],
   "source": []
  },
  {
   "cell_type": "code",
   "execution_count": 78,
   "id": "143807ca",
   "metadata": {},
   "outputs": [
    {
     "data": {
      "text/plain": [
       "['2263322', 'raza', 'ahmed', 'rar', 'xmx']"
      ]
     },
     "execution_count": 78,
     "metadata": {},
     "output_type": "execute_result"
    }
   ],
   "source": [
    "tup=[]\n",
    "list1=(\"raza\",\"ahmed\",\"2263322\",\"rar\",\"xmx\")\n",
    "tup=sorted(list1,key = lambda y: y[-1]) \n",
    "tup   "
   ]
  },
  {
   "cell_type": "code",
   "execution_count": 126,
   "id": "d8269a0e",
   "metadata": {},
   "outputs": [
    {
     "data": {
      "text/plain": [
       "[1, 2, 3, 4, 16, 5]"
      ]
     },
     "execution_count": 126,
     "metadata": {},
     "output_type": "execute_result"
    }
   ],
   "source": [
    "list2=[1,2,2,3,3,4,16,5,1]\n",
    "newlist=[]\n",
    "for x in list2:\n",
    "    if x not in newlist:\n",
    "        newlist.append(x)\n",
    "newlist"
   ]
  },
  {
   "cell_type": "code",
   "execution_count": 130,
   "id": "fdd4c329",
   "metadata": {},
   "outputs": [
    {
     "data": {
      "text/plain": [
       "[1, 3, 3, 3, 5, 5, 7, 8, 10]"
      ]
     },
     "execution_count": 130,
     "metadata": {},
     "output_type": "execute_result"
    }
   ],
   "source": [
    "list3=[10,5,3,7,8]\n",
    "list4=[1,3,5,3]\n",
    "for x in list3:\n",
    "    list4.append(x)\n",
    "list4.sort()\n",
    "list4"
   ]
  },
  {
   "cell_type": "code",
   "execution_count": 84,
   "id": "f4db47d1",
   "metadata": {},
   "outputs": [],
   "source": [
    "import numpy as np\n",
    "import pandas as pd\n",
    "import matplotlib.pyplot as plt"
   ]
  },
  {
   "cell_type": "code",
   "execution_count": 106,
   "id": "19bea913",
   "metadata": {},
   "outputs": [
    {
     "data": {
      "text/plain": [
       "193"
      ]
     },
     "execution_count": 106,
     "metadata": {},
     "output_type": "execute_result"
    }
   ],
   "source": [
    "df = pd.read_csv(\"drinks.csv\")\n",
    "len(df) # number of rows"
   ]
  },
  {
   "cell_type": "code",
   "execution_count": 110,
   "id": "e4db4096",
   "metadata": {},
   "outputs": [],
   "source": [
    "df = df.dropna() # dropping nan values"
   ]
  },
  {
   "cell_type": "code",
   "execution_count": 96,
   "id": "c7f3759a",
   "metadata": {},
   "outputs": [
    {
     "data": {
      "text/plain": [
       "0      AS\n",
       "1      EU\n",
       "2      AF\n",
       "3      EU\n",
       "4      AF\n",
       "       ..\n",
       "188    SA\n",
       "189    AS\n",
       "190    AS\n",
       "191    AF\n",
       "192    AF\n",
       "Name: continent, Length: 170, dtype: object"
      ]
     },
     "execution_count": 96,
     "metadata": {},
     "output_type": "execute_result"
    }
   ],
   "source": [
    "def column(df, col):\n",
    "    return df[col]\n",
    "column(df, \"continent\")"
   ]
  },
  {
   "cell_type": "code",
   "execution_count": 97,
   "id": "de406edc",
   "metadata": {},
   "outputs": [
    {
     "data": {
      "image/png": "[encoded data removed]",
      "text/plain": [
       "<Figure size 432x288 with 1 Axes>"
      ]
     },
     "metadata": {
      "needs_background": "light"
     },
     "output_type": "display_data"
    }
   ],
   "source": [
    "# histogram\n",
    "plt.hist(df[\"total_litres_of_pure_alcohol\"])\n",
    "plt.show()"
   ]
  },
  {
   "cell_type": "code",
   "execution_count": 98,
   "id": "9541370c",
   "metadata": {},
   "outputs": [
    {
     "data": {
      "image/png": "[encoded data removed]",
      "text/plain": [
       "<Figure size 432x288 with 1 Axes>"
      ]
     },
     "metadata": {
      "needs_background": "light"
     },
     "output_type": "display_data"
    }
   ],
   "source": [
    "# scatter plot\n",
    "plt.scatter(df[\"country\"], df[\"total_litres_of_pure_alcohol\"])\n",
    "plt.show()"
   ]
  },
  {
   "cell_type": "code",
   "execution_count": 123,
   "id": "6763fc23",
   "metadata": {},
   "outputs": [
    {
     "data": {
      "image/png": "[encoded data removed]",
      "text/plain": [
       "<Figure size 432x288 with 1 Axes>"
      ]
     },
     "metadata": {},
     "output_type": "display_data"
    }
   ],
   "source": [
    "# pie chart\n",
    "ndf = df.groupby(\"continent\").sum()\n",
    "y = np.array(ndf[\"total_litres_of_pure_alcohol\"])\n",
    "plt.pie(y, labels=df[\"continent\"].unique(), startangle=60)\n",
    "plt.show()"
   ]
  },
  {
   "cell_type": "code",
   "execution_count": 100,
   "id": "cde0aa16",
   "metadata": {},
   "outputs": [
    {
     "data": {
      "image/png": "[encoded data removed]",
      "text/plain": [
       "<Figure size 432x288 with 1 Axes>"
      ]
     },
     "metadata": {
      "needs_background": "light"
     },
     "output_type": "display_data"
    }
   ],
   "source": [
    "# bar chart\n",
    "plt.bar(df[\"country\"], df[\"total_litres_of_pure_alcohol\"])\n",
    "plt.show()"
   ]
  }
 ],
 "metadata": {
  "kernelspec": {
   "display_name": "Python 3 (ipykernel)",
   "language": "python",
   "name": "python3"
  },
  "language_info": {
   "codemirror_mode": {
    "name": "ipython",
    "version": 3
   },
   "file_extension": ".py",
   "mimetype": "text/x-python",
   "name": "python",
   "nbconvert_exporter": "python",
   "pygments_lexer": "ipython3",
   "version": "3.9.12"
  }
 },
 "nbformat": 4,
 "nbformat_minor": 5
}
